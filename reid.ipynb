{
 "cells": [
  {
   "cell_type": "code",
   "execution_count": 6,
   "metadata": {},
   "outputs": [],
   "source": [
    "import os\n",
    "from tqdm import tqdm\n",
    "import cv2\n",
    "import numpy as np\n",
    "import matplotlib.pyplot as plt"
   ]
  },
  {
   "cell_type": "code",
   "execution_count": 40,
   "metadata": {},
   "outputs": [
    {
     "name": "stderr",
     "output_type": "stream",
     "text": [
      "                                                                              \r"
     ]
    }
   ],
   "source": [
    "lst_sq_trains = ['MOT17-02-FRCNN', 'MOT17-04-FRCNN', 'MOT17-05-FRCNN', 'MOT17-09-FRCNN', 'MOT17-10-FRCNN', 'MOT17-11-FRCNN']\n",
    "# lst_sq_trains = ['MOT17-02-DPM']\n",
    "root_dir = './data/MOT17/train'\n",
    "gt = 'gt/gt.txt'\n",
    "save_path = './data/person_reid/train'\n",
    "os.makedirs('./data/person_reid/train', exist_ok = True)\n",
    "\n",
    "\n",
    "for idx, folder_name in enumerate(lst_sq_trains):\n",
    "    with open(os.path.join(root_dir, folder_name, gt), 'r') as f:\n",
    "        progress_bar = tqdm(f.readlines(), desc=f\"Folder {folder_name}\", leave=False)\n",
    "        for line in progress_bar:\n",
    "            img_name = '0'*(6-len(line.split(',')[0])) + line.split(',')[0] + '.jpg'\n",
    "            img_id = line.split(',')[1]\n",
    "            img = cv2.imread(f'{root_dir}/{folder_name}/img1/{img_name}')\n",
    "            left = int(line.split(',')[2])\n",
    "            top = int(line.split(',')[3])\n",
    "            width = int(line.split(',')[4])\n",
    "            height = int(line.split(',')[5])\n",
    "            im_crop = img[top: top+height,left: left+width]\n",
    "            try:\n",
    "                cv2.imwrite(f'{save_path}/{folder_name.split(\"-\")[1]}_{img_name[:-4]}_{img_id}.jpg', im_crop)\n",
    "            except:\n",
    "                continue\n",
    "        #     plt.imshow(im_crop)\n",
    "        #     plt.show()\n",
    "        #     break\n",
    "        # break"
   ]
  },
  {
   "cell_type": "code",
   "execution_count": 6,
   "metadata": {},
   "outputs": [
    {
     "data": {
      "text/plain": [
       "array([1, 2, 4, 6])"
      ]
     },
     "execution_count": 6,
     "metadata": {},
     "output_type": "execute_result"
    }
   ],
   "source": [
    "import numpy as np\n",
    "x = np.array([1, 2, 3, 4])\n",
    "x[2:] = x[:2] + x[2:]\n",
    "x"
   ]
  },
  {
   "cell_type": "code",
   "execution_count": 39,
   "metadata": {},
   "outputs": [
    {
     "name": "stderr",
     "output_type": "stream",
     "text": [
      "                                                                            \r"
     ]
    }
   ],
   "source": [
    "val_seq = ['MOT17-13-FRCNN']\n",
    "root_dir = './data/MOT17/train'\n",
    "gt = 'gt/gt.txt'\n",
    "save_path_query = './data/person_reid/val/query'\n",
    "save_path_gallery = './data/person_reid/val/gallery'\n",
    "os.makedirs(save_path_query, exist_ok = True)\n",
    "os.makedirs(save_path_gallery, exist_ok = True)\n",
    "\n",
    "for idx, folder_name in enumerate(val_seq):\n",
    "    with open(os.path.join(root_dir, folder_name, gt), 'r') as f:\n",
    "        lines = f.readlines()\n",
    "        idx_arr = np.arange(len(lines))\n",
    "        idx_random_20_percent = np.random.choice(idx_arr, size=int(0.2 * len(idx_arr)), replace=False)\n",
    "        progress_bar = tqdm(lines, desc=f\"Folder {folder_name}\", leave=False)\n",
    "\n",
    "        for idx, line in enumerate(progress_bar):\n",
    "            img_name = '{:06d}'.format(int(line.split(',')[0])) + '.jpg'\n",
    "            img_id = line.split(',')[1]\n",
    "            img = cv2.imread(f'{root_dir}/{folder_name}/img1/{img_name}')\n",
    "            left = int(line.split(',')[2])\n",
    "            top = int(line.split(',')[3])\n",
    "            width = int(line.split(',')[4])\n",
    "            height = int(line.split(',')[5])\n",
    "            im_crop = img[top: top+height,left: left+width]\n",
    "            \n",
    "            if idx in idx_random_20_percent:\n",
    "                try:\n",
    "                    cv2.imwrite(f'{save_path_query}/{folder_name.split(\"-\")[1]}_{img_name[:-4]}_{img_id}.jpg', im_crop)\n",
    "                except:\n",
    "                    continue\n",
    "            else:\n",
    "                try:\n",
    "                    cv2.imwrite(f'{save_path_gallery}/{folder_name.split(\"-\")[1]}_{img_name[:-4]}_{img_id}.jpg', im_crop)\n",
    "                except:\n",
    "                    continue"
   ]
  },
  {
   "cell_type": "code",
   "execution_count": null,
   "metadata": {},
   "outputs": [],
   "source": []
  }
 ],
 "metadata": {
  "kernelspec": {
   "display_name": "vin",
   "language": "python",
   "name": "python3"
  },
  "language_info": {
   "codemirror_mode": {
    "name": "ipython",
    "version": 3
   },
   "file_extension": ".py",
   "mimetype": "text/x-python",
   "name": "python",
   "nbconvert_exporter": "python",
   "pygments_lexer": "ipython3",
   "version": "3.8.17"
  },
  "orig_nbformat": 4
 },
 "nbformat": 4,
 "nbformat_minor": 2
}
