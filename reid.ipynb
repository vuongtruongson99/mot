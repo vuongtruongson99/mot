{
 "cells": [
  {
   "cell_type": "code",
   "execution_count": 6,
   "metadata": {},
   "outputs": [],
   "source": [
    "import os\n",
    "from tqdm import tqdm\n",
    "import cv2\n",
    "import numpy as np\n",
    "import matplotlib.pyplot as plt"
   ]
  },
  {
   "cell_type": "code",
   "execution_count": 40,
   "metadata": {},
   "outputs": [
    {
     "name": "stderr",
     "output_type": "stream",
     "text": [
      "                                                                              \r"
     ]
    }
   ],
   "source": [
    "lst_sq_trains = ['MOT17-02-FRCNN', 'MOT17-04-FRCNN', 'MOT17-05-FRCNN', 'MOT17-09-FRCNN', 'MOT17-10-FRCNN', 'MOT17-11-FRCNN']\n",
    "# lst_sq_trains = ['MOT17-02-DPM']\n",
    "root_dir = './data/MOT17/train'\n",
    "gt = 'gt/gt.txt'\n",
    "save_path = './data/person_reid/train'\n",
    "os.makedirs('./data/person_reid/train', exist_ok = True)\n",
    "\n",
    "\n",
    "for idx, folder_name in enumerate(lst_sq_trains):\n",
    "    with open(os.path.join(root_dir, folder_name, gt), 'r') as f:\n",
    "        progress_bar = tqdm(f.readlines(), desc=f\"Folder {folder_name}\", leave=False)\n",
    "        for line in progress_bar:\n",
    "            img_name = '0'*(6-len(line.split(',')[0])) + line.split(',')[0] + '.jpg'\n",
    "            img_id = line.split(',')[1]\n",
    "            img = cv2.imread(f'{root_dir}/{folder_name}/img1/{img_name}')\n",
    "            left = int(line.split(',')[2])\n",
    "            top = int(line.split(',')[3])\n",
    "            width = int(line.split(',')[4])\n",
    "            height = int(line.split(',')[5])\n",
    "            im_crop = img[top: top+height,left: left+width]\n",
    "            try:\n",
    "                cv2.imwrite(f'{save_path}/{folder_name.split(\"-\")[1]}_{img_name[:-4]}_{img_id}.jpg', im_crop)\n",
    "            except:\n",
    "                continue\n",
    "        #     plt.imshow(im_crop)\n",
    "        #     plt.show()\n",
    "        #     break\n",
    "        # break"
   ]
  },
  {
   "cell_type": "code",
   "execution_count": 6,
   "metadata": {},
   "outputs": [
    {
     "data": {
      "text/plain": [
       "array([1, 2, 4, 6])"
      ]
     },
     "execution_count": 6,
     "metadata": {},
     "output_type": "execute_result"
    }
   ],
   "source": [
    "import numpy as np\n",
    "x = np.array([1, 2, 3, 4])\n",
    "x[2:] = x[:2] + x[2:]\n",
    "x"
   ]
  },
  {
   "cell_type": "code",
   "execution_count": 39,
   "metadata": {},
   "outputs": [
    {
     "name": "stderr",
     "output_type": "stream",
     "text": [
      "                                                                            \r"
     ]
    }
   ],
   "source": [
    "val_seq = ['MOT17-13-FRCNN']\n",
    "root_dir = './data/MOT17/train'\n",
    "gt = 'gt/gt.txt'\n",
    "save_path_query = './data/person_reid/val/query'\n",
    "save_path_gallery = './data/person_reid/val/gallery'\n",
    "os.makedirs(save_path_query, exist_ok = True)\n",
    "os.makedirs(save_path_gallery, exist_ok = True)\n",
    "\n",
    "for idx, folder_name in enumerate(val_seq):\n",
    "    with open(os.path.join(root_dir, folder_name, gt), 'r') as f:\n",
    "        lines = f.readlines()\n",
    "        idx_arr = np.arange(len(lines))\n",
    "        idx_random_20_percent = np.random.choice(idx_arr, size=int(0.2 * len(idx_arr)), replace=False)\n",
    "        progress_bar = tqdm(lines, desc=f\"Folder {folder_name}\", leave=False)\n",
    "\n",
    "        for idx, line in enumerate(progress_bar):\n",
    "            img_name = '{:06d}'.format(int(line.split(',')[0])) + '.jpg'\n",
    "            img_id = line.split(',')[1]\n",
    "            img = cv2.imread(f'{root_dir}/{folder_name}/img1/{img_name}')\n",
    "            left = int(line.split(',')[2])\n",
    "            top = int(line.split(',')[3])\n",
    "            width = int(line.split(',')[4])\n",
    "            height = int(line.split(',')[5])\n",
    "            im_crop = img[top: top+height,left: left+width]\n",
    "            \n",
    "            if idx in idx_random_20_percent:\n",
    "                try:\n",
    "                    cv2.imwrite(f'{save_path_query}/{folder_name.split(\"-\")[1]}_{img_name[:-4]}_{img_id}.jpg', im_crop)\n",
    "                except:\n",
    "                    continue\n",
    "            else:\n",
    "                try:\n",
    "                    cv2.imwrite(f'{save_path_gallery}/{folder_name.split(\"-\")[1]}_{img_name[:-4]}_{img_id}.jpg', im_crop)\n",
    "                except:\n",
    "                    continue"
   ]
  },
  {
   "cell_type": "code",
   "execution_count": 32,
   "metadata": {},
   "outputs": [],
   "source": [
    "import argparse\n",
    "import cv2\n",
    "import os\n",
    "from tqdm import tqdm\n",
    "# limit the number of cpus used by high performance libraries\n",
    "os.environ[\"OMP_NUM_THREADS\"] = \"1\"\n",
    "os.environ[\"OPENBLAS_NUM_THREADS\"] = \"1\"\n",
    "os.environ[\"MKL_NUM_THREADS\"] = \"1\"\n",
    "os.environ[\"VECLIB_MAXIMUM_THREADS\"] = \"1\"\n",
    "os.environ[\"NUMEXPR_NUM_THREADS\"] = \"1\"\n",
    "import torchvision.transforms as transforms\n",
    "import sys\n",
    "import platform\n",
    "import numpy as np\n",
    "from pathlib import Path\n",
    "import torch\n",
    "import torch.backends.cudnn as cudnn\n",
    "\n",
    "from tracker.bytetrack.byte_tracker import BYTETracker\n",
    "from tracker.strongsort.utils.parser import get_config\n",
    "\n",
    "\n",
    "import logging\n",
    "from ultralytics.nn.autobackend import AutoBackend  # For inference on various platform\n",
    "from ultralytics.data.augment import LetterBox\n",
    "from ultralytics.data.loaders import LoadImages, LoadStreams\n",
    "from ultralytics.data.utils import IMG_FORMATS, VID_FORMATS\n",
    "from ultralytics.utils import DEFAULT_CFG, LOGGER, SETTINGS, callbacks, colorstr, ops\n",
    "from ultralytics.utils.checks import check_file, check_imgsz, check_imshow, print_args, check_requirements\n",
    "from ultralytics.utils.files import increment_path\n",
    "from ultralytics.utils.torch_utils import select_device\n",
    "from ultralytics.utils.ops import Profile, non_max_suppression, scale_boxes, process_mask, process_mask_native\n",
    "from ultralytics.utils.plotting import Annotator, colors, save_one_box\n",
    "from tracker.get_trackers import create_tracker"
   ]
  },
  {
   "cell_type": "code",
   "execution_count": 33,
   "metadata": {},
   "outputs": [],
   "source": [
    "source = \"/home/son/Desktop/VIN/CV/project/data/MOT17/train/MOT17-02-DPM/img1\"\n",
    "imgsz = 640\n",
    "vid_stride = 1\n",
    "\n",
    "dataset = LoadImages(source, imgsz=imgsz, vid_stride=vid_stride)"
   ]
  },
  {
   "cell_type": "code",
   "execution_count": 34,
   "metadata": {},
   "outputs": [
    {
     "name": "stderr",
     "output_type": "stream",
     "text": [
      "Ultralytics YOLOv8.0.184 🚀 Python-3.8.17 torch-2.0.1+cu117 CUDA:0 (NVIDIA GeForce RTX 3050 Laptop GPU, 3902MiB)\n",
      "Model summary (fused): 168 layers, 3008183 parameters, 0 gradients, 8.1 GFLOPs\n"
     ]
    }
   ],
   "source": [
    "yolo_weights = \"weights/best.pt\"\n",
    "device = select_device(0)\n",
    "dnn = False\n",
    "half = True\n",
    "\n",
    "\n",
    "model = AutoBackend(yolo_weights, device=device, dnn=dnn, fp16=half)\n",
    "stride, names, pt = model.stride, model.names, model.pt"
   ]
  },
  {
   "cell_type": "code",
   "execution_count": 46,
   "metadata": {},
   "outputs": [
    {
     "name": "stderr",
     "output_type": "stream",
     "text": [
      "7it [00:00, 37.27it/s]"
     ]
    },
    {
     "name": "stdout",
     "output_type": "stream",
     "text": [
      "torch.Size([1, 3, 384, 640])\n",
      "torch.Size([1, 3, 384, 640])\n",
      "torch.Size([1, 3, 384, 640])\n",
      "torch.Size([1, 3, 384, 640])\n",
      "torch.Size([1, 3, 384, 640])\n",
      "torch.Size([1, 3, 384, 640])\n",
      "torch.Size([1, 3, 384, 640])\n"
     ]
    },
    {
     "name": "stderr",
     "output_type": "stream",
     "text": [
      "19it [00:00, 50.24it/s]"
     ]
    },
    {
     "name": "stdout",
     "output_type": "stream",
     "text": [
      "torch.Size([1, 3, 384, 640])\n",
      "torch.Size([1, 3, 384, 640])\n",
      "torch.Size([1, 3, 384, 640])\n",
      "torch.Size([1, 3, 384, 640])\n",
      "torch.Size([1, 3, 384, 640])\n",
      "torch.Size([1, 3, 384, 640])\n",
      "torch.Size([1, 3, 384, 640])\n",
      "torch.Size([1, 3, 384, 640])\n",
      "torch.Size([1, 3, 384, 640])\n",
      "torch.Size([1, 3, 384, 640])\n",
      "torch.Size([1, 3, 384, 640])\n",
      "torch.Size([1, 3, 384, 640])\n"
     ]
    },
    {
     "name": "stderr",
     "output_type": "stream",
     "text": [
      "25it [00:00, 49.91it/s]"
     ]
    },
    {
     "name": "stdout",
     "output_type": "stream",
     "text": [
      "torch.Size([1, 3, 384, 640])\n",
      "torch.Size([1, 3, 384, 640])\n",
      "torch.Size([1, 3, 384, 640])\n",
      "torch.Size([1, 3, 384, 640])\n",
      "torch.Size([1, 3, 384, 640])\n",
      "torch.Size([1, 3, 384, 640])\n",
      "torch.Size([1, 3, 384, 640])\n",
      "torch.Size([1, 3, 384, 640])\n",
      "torch.Size([1, 3, 384, 640])\n",
      "torch.Size([1, 3, 384, 640])\n",
      "torch.Size([1, 3, 384, 640])\n"
     ]
    },
    {
     "name": "stderr",
     "output_type": "stream",
     "text": [
      "38it [00:00, 55.28it/s]"
     ]
    },
    {
     "name": "stdout",
     "output_type": "stream",
     "text": [
      "torch.Size([1, 3, 384, 640])\n",
      "torch.Size([1, 3, 384, 640])\n",
      "torch.Size([1, 3, 384, 640])\n",
      "torch.Size([1, 3, 384, 640])\n",
      "torch.Size([1, 3, 384, 640])\n",
      "torch.Size([1, 3, 384, 640])\n",
      "torch.Size([1, 3, 384, 640])\n",
      "torch.Size([1, 3, 384, 640])\n",
      "torch.Size([1, 3, 384, 640])\n",
      "torch.Size([1, 3, 384, 640])\n",
      "torch.Size([1, 3, 384, 640])\n",
      "torch.Size([1, 3, 384, 640])\n",
      "torch.Size([1, 3, 384, 640])\n"
     ]
    },
    {
     "name": "stderr",
     "output_type": "stream",
     "text": [
      "50it [00:00, 56.70it/s]"
     ]
    },
    {
     "name": "stdout",
     "output_type": "stream",
     "text": [
      "torch.Size([1, 3, 384, 640])\n",
      "torch.Size([1, 3, 384, 640])\n",
      "torch.Size([1, 3, 384, 640])\n",
      "torch.Size([1, 3, 384, 640])\n",
      "torch.Size([1, 3, 384, 640])\n",
      "torch.Size([1, 3, 384, 640])\n",
      "torch.Size([1, 3, 384, 640])\n",
      "torch.Size([1, 3, 384, 640])\n",
      "torch.Size([1, 3, 384, 640])\n",
      "torch.Size([1, 3, 384, 640])\n",
      "torch.Size([1, 3, 384, 640])\n",
      "torch.Size([1, 3, 384, 640])\n"
     ]
    },
    {
     "name": "stderr",
     "output_type": "stream",
     "text": [
      "62it [00:01, 56.60it/s]"
     ]
    },
    {
     "name": "stdout",
     "output_type": "stream",
     "text": [
      "torch.Size([1, 3, 384, 640])\n",
      "torch.Size([1, 3, 384, 640])\n",
      "torch.Size([1, 3, 384, 640])\n",
      "torch.Size([1, 3, 384, 640])\n",
      "torch.Size([1, 3, 384, 640])\n",
      "torch.Size([1, 3, 384, 640])\n",
      "torch.Size([1, 3, 384, 640])\n",
      "torch.Size([1, 3, 384, 640])\n",
      "torch.Size([1, 3, 384, 640])\n",
      "torch.Size([1, 3, 384, 640])\n",
      "torch.Size([1, 3, 384, 640])\n",
      "torch.Size([1, 3, 384, 640])\n"
     ]
    },
    {
     "name": "stderr",
     "output_type": "stream",
     "text": [
      "74it [00:01, 56.41it/s]"
     ]
    },
    {
     "name": "stdout",
     "output_type": "stream",
     "text": [
      "torch.Size([1, 3, 384, 640])\n",
      "torch.Size([1, 3, 384, 640])\n",
      "torch.Size([1, 3, 384, 640])\n",
      "torch.Size([1, 3, 384, 640])\n",
      "torch.Size([1, 3, 384, 640])\n",
      "torch.Size([1, 3, 384, 640])\n",
      "torch.Size([1, 3, 384, 640])\n",
      "torch.Size([1, 3, 384, 640])\n",
      "torch.Size([1, 3, 384, 640])\n",
      "torch.Size([1, 3, 384, 640])\n",
      "torch.Size([1, 3, 384, 640])\n",
      "torch.Size([1, 3, 384, 640])\n"
     ]
    },
    {
     "name": "stderr",
     "output_type": "stream",
     "text": [
      "86it [00:01, 56.99it/s]"
     ]
    },
    {
     "name": "stdout",
     "output_type": "stream",
     "text": [
      "torch.Size([1, 3, 384, 640])\n",
      "torch.Size([1, 3, 384, 640])\n",
      "torch.Size([1, 3, 384, 640])\n",
      "torch.Size([1, 3, 384, 640])\n",
      "torch.Size([1, 3, 384, 640])\n",
      "torch.Size([1, 3, 384, 640])\n",
      "torch.Size([1, 3, 384, 640])\n",
      "torch.Size([1, 3, 384, 640])\n",
      "torch.Size([1, 3, 384, 640])\n",
      "torch.Size([1, 3, 384, 640])\n",
      "torch.Size([1, 3, 384, 640])\n",
      "torch.Size([1, 3, 384, 640])\n"
     ]
    },
    {
     "name": "stderr",
     "output_type": "stream",
     "text": [
      "98it [00:01, 57.37it/s]"
     ]
    },
    {
     "name": "stdout",
     "output_type": "stream",
     "text": [
      "torch.Size([1, 3, 384, 640])\n",
      "torch.Size([1, 3, 384, 640])\n",
      "torch.Size([1, 3, 384, 640])\n",
      "torch.Size([1, 3, 384, 640])\n",
      "torch.Size([1, 3, 384, 640])\n",
      "torch.Size([1, 3, 384, 640])\n",
      "torch.Size([1, 3, 384, 640])\n",
      "torch.Size([1, 3, 384, 640])\n",
      "torch.Size([1, 3, 384, 640])\n",
      "torch.Size([1, 3, 384, 640])\n",
      "torch.Size([1, 3, 384, 640])\n",
      "torch.Size([1, 3, 384, 640])\n"
     ]
    },
    {
     "name": "stderr",
     "output_type": "stream",
     "text": [
      "110it [00:02, 57.49it/s]"
     ]
    },
    {
     "name": "stdout",
     "output_type": "stream",
     "text": [
      "torch.Size([1, 3, 384, 640])\n",
      "torch.Size([1, 3, 384, 640])\n",
      "torch.Size([1, 3, 384, 640])\n",
      "torch.Size([1, 3, 384, 640])\n",
      "torch.Size([1, 3, 384, 640])\n",
      "torch.Size([1, 3, 384, 640])\n",
      "torch.Size([1, 3, 384, 640])\n",
      "torch.Size([1, 3, 384, 640])\n",
      "torch.Size([1, 3, 384, 640])\n",
      "torch.Size([1, 3, 384, 640])\n",
      "torch.Size([1, 3, 384, 640])\n",
      "torch.Size([1, 3, 384, 640])\n"
     ]
    },
    {
     "name": "stderr",
     "output_type": "stream",
     "text": [
      "122it [00:02, 57.59it/s]"
     ]
    },
    {
     "name": "stdout",
     "output_type": "stream",
     "text": [
      "torch.Size([1, 3, 384, 640])\n",
      "torch.Size([1, 3, 384, 640])\n",
      "torch.Size([1, 3, 384, 640])\n",
      "torch.Size([1, 3, 384, 640])\n",
      "torch.Size([1, 3, 384, 640])\n",
      "torch.Size([1, 3, 384, 640])\n",
      "torch.Size([1, 3, 384, 640])\n",
      "torch.Size([1, 3, 384, 640])\n",
      "torch.Size([1, 3, 384, 640])\n",
      "torch.Size([1, 3, 384, 640])\n",
      "torch.Size([1, 3, 384, 640])\n",
      "torch.Size([1, 3, 384, 640])\n"
     ]
    },
    {
     "name": "stderr",
     "output_type": "stream",
     "text": [
      "136it [00:02, 54.82it/s]"
     ]
    },
    {
     "name": "stdout",
     "output_type": "stream",
     "text": [
      "torch.Size([1, 3, 384, 640])\n",
      "torch.Size([1, 3, 384, 640])\n",
      "torch.Size([1, 3, 384, 640])\n",
      "torch.Size([1, 3, 384, 640])\n",
      "torch.Size([1, 3, 384, 640])\n",
      "torch.Size([1, 3, 384, 640])\n",
      "torch.Size([1, 3, 384, 640])\n",
      "torch.Size([1, 3, 384, 640])\n",
      "torch.Size([1, 3, 384, 640])\n",
      "torch.Size([1, 3, 384, 640])\n"
     ]
    },
    {
     "name": "stderr",
     "output_type": "stream",
     "text": [
      "\n"
     ]
    },
    {
     "ename": "KeyboardInterrupt",
     "evalue": "",
     "output_type": "error",
     "traceback": [
      "\u001b[0;31m---------------------------------------------------------------------------\u001b[0m",
      "\u001b[0;31mKeyboardInterrupt\u001b[0m                         Traceback (most recent call last)",
      "Cell \u001b[0;32mIn[46], line 22\u001b[0m\n\u001b[1;32m     20\u001b[0m     im \u001b[39m=\u001b[39m im[\u001b[39mNone\u001b[39;00m]   \u001b[39m# expand for batch dim\u001b[39;00m\n\u001b[1;32m     21\u001b[0m \u001b[39mprint\u001b[39m(im\u001b[39m.\u001b[39mshape)\n\u001b[0;32m---> 22\u001b[0m preds \u001b[39m=\u001b[39m model(im, augment\u001b[39m=\u001b[39;49maugment, visualize\u001b[39m=\u001b[39;49mvisualize)\n",
      "File \u001b[0;32m~/miniconda3/envs/vin/lib/python3.8/site-packages/torch/nn/modules/module.py:1501\u001b[0m, in \u001b[0;36mModule._call_impl\u001b[0;34m(self, *args, **kwargs)\u001b[0m\n\u001b[1;32m   1496\u001b[0m \u001b[39m# If we don't have any hooks, we want to skip the rest of the logic in\u001b[39;00m\n\u001b[1;32m   1497\u001b[0m \u001b[39m# this function, and just call forward.\u001b[39;00m\n\u001b[1;32m   1498\u001b[0m \u001b[39mif\u001b[39;00m \u001b[39mnot\u001b[39;00m (\u001b[39mself\u001b[39m\u001b[39m.\u001b[39m_backward_hooks \u001b[39mor\u001b[39;00m \u001b[39mself\u001b[39m\u001b[39m.\u001b[39m_backward_pre_hooks \u001b[39mor\u001b[39;00m \u001b[39mself\u001b[39m\u001b[39m.\u001b[39m_forward_hooks \u001b[39mor\u001b[39;00m \u001b[39mself\u001b[39m\u001b[39m.\u001b[39m_forward_pre_hooks\n\u001b[1;32m   1499\u001b[0m         \u001b[39mor\u001b[39;00m _global_backward_pre_hooks \u001b[39mor\u001b[39;00m _global_backward_hooks\n\u001b[1;32m   1500\u001b[0m         \u001b[39mor\u001b[39;00m _global_forward_hooks \u001b[39mor\u001b[39;00m _global_forward_pre_hooks):\n\u001b[0;32m-> 1501\u001b[0m     \u001b[39mreturn\u001b[39;00m forward_call(\u001b[39m*\u001b[39;49margs, \u001b[39m*\u001b[39;49m\u001b[39m*\u001b[39;49mkwargs)\n\u001b[1;32m   1502\u001b[0m \u001b[39m# Do not call functions when jit is used\u001b[39;00m\n\u001b[1;32m   1503\u001b[0m full_backward_hooks, non_full_backward_hooks \u001b[39m=\u001b[39m [], []\n",
      "File \u001b[0;32m~/miniconda3/envs/vin/lib/python3.8/site-packages/ultralytics/nn/autobackend.py:333\u001b[0m, in \u001b[0;36mAutoBackend.forward\u001b[0;34m(self, im, augment, visualize)\u001b[0m\n\u001b[1;32m    330\u001b[0m     im \u001b[39m=\u001b[39m im\u001b[39m.\u001b[39mpermute(\u001b[39m0\u001b[39m, \u001b[39m2\u001b[39m, \u001b[39m3\u001b[39m, \u001b[39m1\u001b[39m)  \u001b[39m# torch BCHW to numpy BHWC shape(1,320,192,3)\u001b[39;00m\n\u001b[1;32m    332\u001b[0m \u001b[39mif\u001b[39;00m \u001b[39mself\u001b[39m\u001b[39m.\u001b[39mpt \u001b[39mor\u001b[39;00m \u001b[39mself\u001b[39m\u001b[39m.\u001b[39mnn_module:  \u001b[39m# PyTorch\u001b[39;00m\n\u001b[0;32m--> 333\u001b[0m     y \u001b[39m=\u001b[39m \u001b[39mself\u001b[39m\u001b[39m.\u001b[39mmodel(im, augment\u001b[39m=\u001b[39maugment, visualize\u001b[39m=\u001b[39mvisualize) \u001b[39mif\u001b[39;00m augment \u001b[39mor\u001b[39;00m visualize \u001b[39melse\u001b[39;00m \u001b[39mself\u001b[39;49m\u001b[39m.\u001b[39;49mmodel(im)\n\u001b[1;32m    334\u001b[0m \u001b[39melif\u001b[39;00m \u001b[39mself\u001b[39m\u001b[39m.\u001b[39mjit:  \u001b[39m# TorchScript\u001b[39;00m\n\u001b[1;32m    335\u001b[0m     y \u001b[39m=\u001b[39m \u001b[39mself\u001b[39m\u001b[39m.\u001b[39mmodel(im)\n",
      "File \u001b[0;32m~/miniconda3/envs/vin/lib/python3.8/site-packages/torch/nn/modules/module.py:1501\u001b[0m, in \u001b[0;36mModule._call_impl\u001b[0;34m(self, *args, **kwargs)\u001b[0m\n\u001b[1;32m   1496\u001b[0m \u001b[39m# If we don't have any hooks, we want to skip the rest of the logic in\u001b[39;00m\n\u001b[1;32m   1497\u001b[0m \u001b[39m# this function, and just call forward.\u001b[39;00m\n\u001b[1;32m   1498\u001b[0m \u001b[39mif\u001b[39;00m \u001b[39mnot\u001b[39;00m (\u001b[39mself\u001b[39m\u001b[39m.\u001b[39m_backward_hooks \u001b[39mor\u001b[39;00m \u001b[39mself\u001b[39m\u001b[39m.\u001b[39m_backward_pre_hooks \u001b[39mor\u001b[39;00m \u001b[39mself\u001b[39m\u001b[39m.\u001b[39m_forward_hooks \u001b[39mor\u001b[39;00m \u001b[39mself\u001b[39m\u001b[39m.\u001b[39m_forward_pre_hooks\n\u001b[1;32m   1499\u001b[0m         \u001b[39mor\u001b[39;00m _global_backward_pre_hooks \u001b[39mor\u001b[39;00m _global_backward_hooks\n\u001b[1;32m   1500\u001b[0m         \u001b[39mor\u001b[39;00m _global_forward_hooks \u001b[39mor\u001b[39;00m _global_forward_pre_hooks):\n\u001b[0;32m-> 1501\u001b[0m     \u001b[39mreturn\u001b[39;00m forward_call(\u001b[39m*\u001b[39;49margs, \u001b[39m*\u001b[39;49m\u001b[39m*\u001b[39;49mkwargs)\n\u001b[1;32m   1502\u001b[0m \u001b[39m# Do not call functions when jit is used\u001b[39;00m\n\u001b[1;32m   1503\u001b[0m full_backward_hooks, non_full_backward_hooks \u001b[39m=\u001b[39m [], []\n",
      "File \u001b[0;32m~/miniconda3/envs/vin/lib/python3.8/site-packages/ultralytics/nn/tasks.py:45\u001b[0m, in \u001b[0;36mBaseModel.forward\u001b[0;34m(self, x, *args, **kwargs)\u001b[0m\n\u001b[1;32m     43\u001b[0m \u001b[39mif\u001b[39;00m \u001b[39misinstance\u001b[39m(x, \u001b[39mdict\u001b[39m):  \u001b[39m# for cases of training and validating while training.\u001b[39;00m\n\u001b[1;32m     44\u001b[0m     \u001b[39mreturn\u001b[39;00m \u001b[39mself\u001b[39m\u001b[39m.\u001b[39mloss(x, \u001b[39m*\u001b[39margs, \u001b[39m*\u001b[39m\u001b[39m*\u001b[39mkwargs)\n\u001b[0;32m---> 45\u001b[0m \u001b[39mreturn\u001b[39;00m \u001b[39mself\u001b[39;49m\u001b[39m.\u001b[39;49mpredict(x, \u001b[39m*\u001b[39;49margs, \u001b[39m*\u001b[39;49m\u001b[39m*\u001b[39;49mkwargs)\n",
      "File \u001b[0;32m~/miniconda3/envs/vin/lib/python3.8/site-packages/ultralytics/nn/tasks.py:62\u001b[0m, in \u001b[0;36mBaseModel.predict\u001b[0;34m(self, x, profile, visualize, augment)\u001b[0m\n\u001b[1;32m     60\u001b[0m \u001b[39mif\u001b[39;00m augment:\n\u001b[1;32m     61\u001b[0m     \u001b[39mreturn\u001b[39;00m \u001b[39mself\u001b[39m\u001b[39m.\u001b[39m_predict_augment(x)\n\u001b[0;32m---> 62\u001b[0m \u001b[39mreturn\u001b[39;00m \u001b[39mself\u001b[39;49m\u001b[39m.\u001b[39;49m_predict_once(x, profile, visualize)\n",
      "File \u001b[0;32m~/miniconda3/envs/vin/lib/python3.8/site-packages/ultralytics/nn/tasks.py:82\u001b[0m, in \u001b[0;36mBaseModel._predict_once\u001b[0;34m(self, x, profile, visualize)\u001b[0m\n\u001b[1;32m     80\u001b[0m \u001b[39mif\u001b[39;00m profile:\n\u001b[1;32m     81\u001b[0m     \u001b[39mself\u001b[39m\u001b[39m.\u001b[39m_profile_one_layer(m, x, dt)\n\u001b[0;32m---> 82\u001b[0m x \u001b[39m=\u001b[39m m(x)  \u001b[39m# run\u001b[39;00m\n\u001b[1;32m     83\u001b[0m y\u001b[39m.\u001b[39mappend(x \u001b[39mif\u001b[39;00m m\u001b[39m.\u001b[39mi \u001b[39min\u001b[39;00m \u001b[39mself\u001b[39m\u001b[39m.\u001b[39msave \u001b[39melse\u001b[39;00m \u001b[39mNone\u001b[39;00m)  \u001b[39m# save output\u001b[39;00m\n\u001b[1;32m     84\u001b[0m \u001b[39mif\u001b[39;00m visualize:\n",
      "File \u001b[0;32m~/miniconda3/envs/vin/lib/python3.8/site-packages/torch/nn/modules/module.py:1501\u001b[0m, in \u001b[0;36mModule._call_impl\u001b[0;34m(self, *args, **kwargs)\u001b[0m\n\u001b[1;32m   1496\u001b[0m \u001b[39m# If we don't have any hooks, we want to skip the rest of the logic in\u001b[39;00m\n\u001b[1;32m   1497\u001b[0m \u001b[39m# this function, and just call forward.\u001b[39;00m\n\u001b[1;32m   1498\u001b[0m \u001b[39mif\u001b[39;00m \u001b[39mnot\u001b[39;00m (\u001b[39mself\u001b[39m\u001b[39m.\u001b[39m_backward_hooks \u001b[39mor\u001b[39;00m \u001b[39mself\u001b[39m\u001b[39m.\u001b[39m_backward_pre_hooks \u001b[39mor\u001b[39;00m \u001b[39mself\u001b[39m\u001b[39m.\u001b[39m_forward_hooks \u001b[39mor\u001b[39;00m \u001b[39mself\u001b[39m\u001b[39m.\u001b[39m_forward_pre_hooks\n\u001b[1;32m   1499\u001b[0m         \u001b[39mor\u001b[39;00m _global_backward_pre_hooks \u001b[39mor\u001b[39;00m _global_backward_hooks\n\u001b[1;32m   1500\u001b[0m         \u001b[39mor\u001b[39;00m _global_forward_hooks \u001b[39mor\u001b[39;00m _global_forward_pre_hooks):\n\u001b[0;32m-> 1501\u001b[0m     \u001b[39mreturn\u001b[39;00m forward_call(\u001b[39m*\u001b[39;49margs, \u001b[39m*\u001b[39;49m\u001b[39m*\u001b[39;49mkwargs)\n\u001b[1;32m   1502\u001b[0m \u001b[39m# Do not call functions when jit is used\u001b[39;00m\n\u001b[1;32m   1503\u001b[0m full_backward_hooks, non_full_backward_hooks \u001b[39m=\u001b[39m [], []\n",
      "File \u001b[0;32m~/miniconda3/envs/vin/lib/python3.8/site-packages/ultralytics/nn/modules/block.py:181\u001b[0m, in \u001b[0;36mC2f.forward\u001b[0;34m(self, x)\u001b[0m\n\u001b[1;32m    179\u001b[0m \u001b[39m\u001b[39m\u001b[39m\"\"\"Forward pass through C2f layer.\"\"\"\u001b[39;00m\n\u001b[1;32m    180\u001b[0m y \u001b[39m=\u001b[39m \u001b[39mlist\u001b[39m(\u001b[39mself\u001b[39m\u001b[39m.\u001b[39mcv1(x)\u001b[39m.\u001b[39mchunk(\u001b[39m2\u001b[39m, \u001b[39m1\u001b[39m))\n\u001b[0;32m--> 181\u001b[0m y\u001b[39m.\u001b[39;49mextend(m(y[\u001b[39m-\u001b[39;49m\u001b[39m1\u001b[39;49m]) \u001b[39mfor\u001b[39;49;00m m \u001b[39min\u001b[39;49;00m \u001b[39mself\u001b[39;49m\u001b[39m.\u001b[39;49mm)\n\u001b[1;32m    182\u001b[0m \u001b[39mreturn\u001b[39;00m \u001b[39mself\u001b[39m\u001b[39m.\u001b[39mcv2(torch\u001b[39m.\u001b[39mcat(y, \u001b[39m1\u001b[39m))\n",
      "File \u001b[0;32m~/miniconda3/envs/vin/lib/python3.8/site-packages/ultralytics/nn/modules/block.py:181\u001b[0m, in \u001b[0;36m<genexpr>\u001b[0;34m(.0)\u001b[0m\n\u001b[1;32m    179\u001b[0m \u001b[39m\u001b[39m\u001b[39m\"\"\"Forward pass through C2f layer.\"\"\"\u001b[39;00m\n\u001b[1;32m    180\u001b[0m y \u001b[39m=\u001b[39m \u001b[39mlist\u001b[39m(\u001b[39mself\u001b[39m\u001b[39m.\u001b[39mcv1(x)\u001b[39m.\u001b[39mchunk(\u001b[39m2\u001b[39m, \u001b[39m1\u001b[39m))\n\u001b[0;32m--> 181\u001b[0m y\u001b[39m.\u001b[39mextend(m(y[\u001b[39m-\u001b[39;49m\u001b[39m1\u001b[39;49m]) \u001b[39mfor\u001b[39;00m m \u001b[39min\u001b[39;00m \u001b[39mself\u001b[39m\u001b[39m.\u001b[39mm)\n\u001b[1;32m    182\u001b[0m \u001b[39mreturn\u001b[39;00m \u001b[39mself\u001b[39m\u001b[39m.\u001b[39mcv2(torch\u001b[39m.\u001b[39mcat(y, \u001b[39m1\u001b[39m))\n",
      "File \u001b[0;32m~/miniconda3/envs/vin/lib/python3.8/site-packages/torch/nn/modules/module.py:1501\u001b[0m, in \u001b[0;36mModule._call_impl\u001b[0;34m(self, *args, **kwargs)\u001b[0m\n\u001b[1;32m   1496\u001b[0m \u001b[39m# If we don't have any hooks, we want to skip the rest of the logic in\u001b[39;00m\n\u001b[1;32m   1497\u001b[0m \u001b[39m# this function, and just call forward.\u001b[39;00m\n\u001b[1;32m   1498\u001b[0m \u001b[39mif\u001b[39;00m \u001b[39mnot\u001b[39;00m (\u001b[39mself\u001b[39m\u001b[39m.\u001b[39m_backward_hooks \u001b[39mor\u001b[39;00m \u001b[39mself\u001b[39m\u001b[39m.\u001b[39m_backward_pre_hooks \u001b[39mor\u001b[39;00m \u001b[39mself\u001b[39m\u001b[39m.\u001b[39m_forward_hooks \u001b[39mor\u001b[39;00m \u001b[39mself\u001b[39m\u001b[39m.\u001b[39m_forward_pre_hooks\n\u001b[1;32m   1499\u001b[0m         \u001b[39mor\u001b[39;00m _global_backward_pre_hooks \u001b[39mor\u001b[39;00m _global_backward_hooks\n\u001b[1;32m   1500\u001b[0m         \u001b[39mor\u001b[39;00m _global_forward_hooks \u001b[39mor\u001b[39;00m _global_forward_pre_hooks):\n\u001b[0;32m-> 1501\u001b[0m     \u001b[39mreturn\u001b[39;00m forward_call(\u001b[39m*\u001b[39;49margs, \u001b[39m*\u001b[39;49m\u001b[39m*\u001b[39;49mkwargs)\n\u001b[1;32m   1502\u001b[0m \u001b[39m# Do not call functions when jit is used\u001b[39;00m\n\u001b[1;32m   1503\u001b[0m full_backward_hooks, non_full_backward_hooks \u001b[39m=\u001b[39m [], []\n",
      "File \u001b[0;32m~/miniconda3/envs/vin/lib/python3.8/site-packages/ultralytics/nn/modules/block.py:283\u001b[0m, in \u001b[0;36mBottleneck.forward\u001b[0;34m(self, x)\u001b[0m\n\u001b[1;32m    281\u001b[0m \u001b[39mdef\u001b[39;00m \u001b[39mforward\u001b[39m(\u001b[39mself\u001b[39m, x):\n\u001b[1;32m    282\u001b[0m \u001b[39m    \u001b[39m\u001b[39m\"\"\"'forward()' applies the YOLOv5 FPN to input data.\"\"\"\u001b[39;00m\n\u001b[0;32m--> 283\u001b[0m     \u001b[39mreturn\u001b[39;00m x \u001b[39m+\u001b[39m \u001b[39mself\u001b[39m\u001b[39m.\u001b[39mcv2(\u001b[39mself\u001b[39m\u001b[39m.\u001b[39mcv1(x)) \u001b[39mif\u001b[39;00m \u001b[39mself\u001b[39m\u001b[39m.\u001b[39madd \u001b[39melse\u001b[39;00m \u001b[39mself\u001b[39;49m\u001b[39m.\u001b[39;49mcv2(\u001b[39mself\u001b[39;49m\u001b[39m.\u001b[39;49mcv1(x))\n",
      "File \u001b[0;32m~/miniconda3/envs/vin/lib/python3.8/site-packages/torch/nn/modules/module.py:1501\u001b[0m, in \u001b[0;36mModule._call_impl\u001b[0;34m(self, *args, **kwargs)\u001b[0m\n\u001b[1;32m   1496\u001b[0m \u001b[39m# If we don't have any hooks, we want to skip the rest of the logic in\u001b[39;00m\n\u001b[1;32m   1497\u001b[0m \u001b[39m# this function, and just call forward.\u001b[39;00m\n\u001b[1;32m   1498\u001b[0m \u001b[39mif\u001b[39;00m \u001b[39mnot\u001b[39;00m (\u001b[39mself\u001b[39m\u001b[39m.\u001b[39m_backward_hooks \u001b[39mor\u001b[39;00m \u001b[39mself\u001b[39m\u001b[39m.\u001b[39m_backward_pre_hooks \u001b[39mor\u001b[39;00m \u001b[39mself\u001b[39m\u001b[39m.\u001b[39m_forward_hooks \u001b[39mor\u001b[39;00m \u001b[39mself\u001b[39m\u001b[39m.\u001b[39m_forward_pre_hooks\n\u001b[1;32m   1499\u001b[0m         \u001b[39mor\u001b[39;00m _global_backward_pre_hooks \u001b[39mor\u001b[39;00m _global_backward_hooks\n\u001b[1;32m   1500\u001b[0m         \u001b[39mor\u001b[39;00m _global_forward_hooks \u001b[39mor\u001b[39;00m _global_forward_pre_hooks):\n\u001b[0;32m-> 1501\u001b[0m     \u001b[39mreturn\u001b[39;00m forward_call(\u001b[39m*\u001b[39;49margs, \u001b[39m*\u001b[39;49m\u001b[39m*\u001b[39;49mkwargs)\n\u001b[1;32m   1502\u001b[0m \u001b[39m# Do not call functions when jit is used\u001b[39;00m\n\u001b[1;32m   1503\u001b[0m full_backward_hooks, non_full_backward_hooks \u001b[39m=\u001b[39m [], []\n",
      "File \u001b[0;32m~/miniconda3/envs/vin/lib/python3.8/site-packages/ultralytics/nn/modules/conv.py:42\u001b[0m, in \u001b[0;36mConv.forward_fuse\u001b[0;34m(self, x)\u001b[0m\n\u001b[1;32m     40\u001b[0m \u001b[39mdef\u001b[39;00m \u001b[39mforward_fuse\u001b[39m(\u001b[39mself\u001b[39m, x):\n\u001b[1;32m     41\u001b[0m \u001b[39m    \u001b[39m\u001b[39m\"\"\"Perform transposed convolution of 2D data.\"\"\"\u001b[39;00m\n\u001b[0;32m---> 42\u001b[0m     \u001b[39mreturn\u001b[39;00m \u001b[39mself\u001b[39m\u001b[39m.\u001b[39mact(\u001b[39mself\u001b[39;49m\u001b[39m.\u001b[39;49mconv(x))\n",
      "File \u001b[0;32m~/miniconda3/envs/vin/lib/python3.8/site-packages/torch/nn/modules/module.py:1501\u001b[0m, in \u001b[0;36mModule._call_impl\u001b[0;34m(self, *args, **kwargs)\u001b[0m\n\u001b[1;32m   1496\u001b[0m \u001b[39m# If we don't have any hooks, we want to skip the rest of the logic in\u001b[39;00m\n\u001b[1;32m   1497\u001b[0m \u001b[39m# this function, and just call forward.\u001b[39;00m\n\u001b[1;32m   1498\u001b[0m \u001b[39mif\u001b[39;00m \u001b[39mnot\u001b[39;00m (\u001b[39mself\u001b[39m\u001b[39m.\u001b[39m_backward_hooks \u001b[39mor\u001b[39;00m \u001b[39mself\u001b[39m\u001b[39m.\u001b[39m_backward_pre_hooks \u001b[39mor\u001b[39;00m \u001b[39mself\u001b[39m\u001b[39m.\u001b[39m_forward_hooks \u001b[39mor\u001b[39;00m \u001b[39mself\u001b[39m\u001b[39m.\u001b[39m_forward_pre_hooks\n\u001b[1;32m   1499\u001b[0m         \u001b[39mor\u001b[39;00m _global_backward_pre_hooks \u001b[39mor\u001b[39;00m _global_backward_hooks\n\u001b[1;32m   1500\u001b[0m         \u001b[39mor\u001b[39;00m _global_forward_hooks \u001b[39mor\u001b[39;00m _global_forward_pre_hooks):\n\u001b[0;32m-> 1501\u001b[0m     \u001b[39mreturn\u001b[39;00m forward_call(\u001b[39m*\u001b[39;49margs, \u001b[39m*\u001b[39;49m\u001b[39m*\u001b[39;49mkwargs)\n\u001b[1;32m   1502\u001b[0m \u001b[39m# Do not call functions when jit is used\u001b[39;00m\n\u001b[1;32m   1503\u001b[0m full_backward_hooks, non_full_backward_hooks \u001b[39m=\u001b[39m [], []\n",
      "File \u001b[0;32m~/miniconda3/envs/vin/lib/python3.8/site-packages/torch/nn/modules/conv.py:463\u001b[0m, in \u001b[0;36mConv2d.forward\u001b[0;34m(self, input)\u001b[0m\n\u001b[1;32m    462\u001b[0m \u001b[39mdef\u001b[39;00m \u001b[39mforward\u001b[39m(\u001b[39mself\u001b[39m, \u001b[39minput\u001b[39m: Tensor) \u001b[39m-\u001b[39m\u001b[39m>\u001b[39m Tensor:\n\u001b[0;32m--> 463\u001b[0m     \u001b[39mreturn\u001b[39;00m \u001b[39mself\u001b[39;49m\u001b[39m.\u001b[39;49m_conv_forward(\u001b[39minput\u001b[39;49m, \u001b[39mself\u001b[39;49m\u001b[39m.\u001b[39;49mweight, \u001b[39mself\u001b[39;49m\u001b[39m.\u001b[39;49mbias)\n",
      "File \u001b[0;32m~/miniconda3/envs/vin/lib/python3.8/site-packages/torch/nn/modules/conv.py:459\u001b[0m, in \u001b[0;36mConv2d._conv_forward\u001b[0;34m(self, input, weight, bias)\u001b[0m\n\u001b[1;32m    455\u001b[0m \u001b[39mif\u001b[39;00m \u001b[39mself\u001b[39m\u001b[39m.\u001b[39mpadding_mode \u001b[39m!=\u001b[39m \u001b[39m'\u001b[39m\u001b[39mzeros\u001b[39m\u001b[39m'\u001b[39m:\n\u001b[1;32m    456\u001b[0m     \u001b[39mreturn\u001b[39;00m F\u001b[39m.\u001b[39mconv2d(F\u001b[39m.\u001b[39mpad(\u001b[39minput\u001b[39m, \u001b[39mself\u001b[39m\u001b[39m.\u001b[39m_reversed_padding_repeated_twice, mode\u001b[39m=\u001b[39m\u001b[39mself\u001b[39m\u001b[39m.\u001b[39mpadding_mode),\n\u001b[1;32m    457\u001b[0m                     weight, bias, \u001b[39mself\u001b[39m\u001b[39m.\u001b[39mstride,\n\u001b[1;32m    458\u001b[0m                     _pair(\u001b[39m0\u001b[39m), \u001b[39mself\u001b[39m\u001b[39m.\u001b[39mdilation, \u001b[39mself\u001b[39m\u001b[39m.\u001b[39mgroups)\n\u001b[0;32m--> 459\u001b[0m \u001b[39mreturn\u001b[39;00m F\u001b[39m.\u001b[39;49mconv2d(\u001b[39minput\u001b[39;49m, weight, bias, \u001b[39mself\u001b[39;49m\u001b[39m.\u001b[39;49mstride,\n\u001b[1;32m    460\u001b[0m                 \u001b[39mself\u001b[39;49m\u001b[39m.\u001b[39;49mpadding, \u001b[39mself\u001b[39;49m\u001b[39m.\u001b[39;49mdilation, \u001b[39mself\u001b[39;49m\u001b[39m.\u001b[39;49mgroups)\n",
      "\u001b[0;31mKeyboardInterrupt\u001b[0m: "
     ]
    }
   ],
   "source": [
    "augment = False\n",
    "visualize = False\n",
    "transforms = getattr(model.model, 'transforms', None)\n",
    "\n",
    "for frame_idx, batch in tqdm(enumerate(dataset)):\n",
    "    path, im0, vid_cap, s = batch\n",
    "    im0 = im0[0]\n",
    "    im = LetterBox(imgsz, True, stride=stride)(image=im0)\n",
    "    im = im.transpose((2, 0, 1))[::-1]  # HWC to CHW, BGR to RGB\n",
    "    im = np.ascontiguousarray(im)  # contiguous\n",
    "\n",
    "\n",
    "    # visualize = increment_path(save_dir / Path(path[0]).stem, mkdir=True) if visualize else False\n",
    "\n",
    "\n",
    "    im = torch.from_numpy(im).to(device)\n",
    "    im = im.half() if half else im.float()\n",
    "    im /= 255.0\n",
    "    if len(im.shape) == 3:\n",
    "        im = im[None]   # expand for batch dim\n",
    "    print(im.shape)\n",
    "    preds = model(im, augment=augment, visualize=visualize)"
   ]
  },
  {
   "cell_type": "code",
   "execution_count": 29,
   "metadata": {},
   "outputs": [
    {
     "name": "stdout",
     "output_type": "stream",
     "text": [
      "Requirement already satisfied: ultralytics in /home/son/miniconda3/envs/vin/lib/python3.8/site-packages (8.0.20)\n",
      "Collecting ultralytics\n",
      "  Obtaining dependency information for ultralytics from https://files.pythonhosted.org/packages/ae/38/eb300b64bab80039f72cb00dbc7e82c6478bf1acc89031247632fd504221/ultralytics-8.0.184-py3-none-any.whl.metadata\n",
      "  Using cached ultralytics-8.0.184-py3-none-any.whl.metadata (28 kB)\n",
      "Requirement already satisfied: matplotlib>=3.3.0 in /home/son/miniconda3/envs/vin/lib/python3.8/site-packages (from ultralytics) (3.7.2)\n",
      "Requirement already satisfied: numpy>=1.22.2 in /home/son/miniconda3/envs/vin/lib/python3.8/site-packages (from ultralytics) (1.23.1)\n",
      "Requirement already satisfied: opencv-python>=4.6.0 in /home/son/miniconda3/envs/vin/lib/python3.8/site-packages (from ultralytics) (4.8.0.76)\n",
      "Requirement already satisfied: pillow>=7.1.2 in /home/son/miniconda3/envs/vin/lib/python3.8/site-packages (from ultralytics) (9.5.0)\n",
      "Requirement already satisfied: pyyaml>=5.3.1 in /home/son/miniconda3/envs/vin/lib/python3.8/site-packages (from ultralytics) (6.0.1)\n",
      "Requirement already satisfied: requests>=2.23.0 in /home/son/miniconda3/envs/vin/lib/python3.8/site-packages (from ultralytics) (2.31.0)\n",
      "Requirement already satisfied: scipy>=1.4.1 in /home/son/miniconda3/envs/vin/lib/python3.8/site-packages (from ultralytics) (1.10.1)\n",
      "Requirement already satisfied: torch>=1.8.0 in /home/son/miniconda3/envs/vin/lib/python3.8/site-packages (from ultralytics) (2.0.1)\n",
      "Requirement already satisfied: torchvision>=0.9.0 in /home/son/miniconda3/envs/vin/lib/python3.8/site-packages (from ultralytics) (0.15.2)\n",
      "Requirement already satisfied: tqdm>=4.64.0 in /home/son/miniconda3/envs/vin/lib/python3.8/site-packages (from ultralytics) (4.66.1)\n",
      "Requirement already satisfied: pandas>=1.1.4 in /home/son/miniconda3/envs/vin/lib/python3.8/site-packages (from ultralytics) (2.0.3)\n",
      "Requirement already satisfied: seaborn>=0.11.0 in /home/son/miniconda3/envs/vin/lib/python3.8/site-packages (from ultralytics) (0.12.2)\n",
      "Requirement already satisfied: psutil in /home/son/miniconda3/envs/vin/lib/python3.8/site-packages (from ultralytics) (5.9.0)\n",
      "Requirement already satisfied: py-cpuinfo in /home/son/miniconda3/envs/vin/lib/python3.8/site-packages (from ultralytics) (9.0.0)\n",
      "Requirement already satisfied: contourpy>=1.0.1 in /home/son/miniconda3/envs/vin/lib/python3.8/site-packages (from matplotlib>=3.3.0->ultralytics) (1.1.0)\n",
      "Requirement already satisfied: cycler>=0.10 in /home/son/miniconda3/envs/vin/lib/python3.8/site-packages (from matplotlib>=3.3.0->ultralytics) (0.10.0)\n",
      "Requirement already satisfied: fonttools>=4.22.0 in /home/son/miniconda3/envs/vin/lib/python3.8/site-packages (from matplotlib>=3.3.0->ultralytics) (4.42.1)\n",
      "Requirement already satisfied: kiwisolver>=1.0.1 in /home/son/miniconda3/envs/vin/lib/python3.8/site-packages (from matplotlib>=3.3.0->ultralytics) (1.4.4)\n",
      "Requirement already satisfied: packaging>=20.0 in /home/son/miniconda3/envs/vin/lib/python3.8/site-packages (from matplotlib>=3.3.0->ultralytics) (23.1)\n",
      "Requirement already satisfied: pyparsing<3.1,>=2.3.1 in /home/son/miniconda3/envs/vin/lib/python3.8/site-packages (from matplotlib>=3.3.0->ultralytics) (2.4.7)\n",
      "Requirement already satisfied: python-dateutil>=2.7 in /home/son/miniconda3/envs/vin/lib/python3.8/site-packages (from matplotlib>=3.3.0->ultralytics) (2.8.2)\n",
      "Requirement already satisfied: importlib-resources>=3.2.0 in /home/son/miniconda3/envs/vin/lib/python3.8/site-packages (from matplotlib>=3.3.0->ultralytics) (6.0.1)\n",
      "Requirement already satisfied: pytz>=2020.1 in /home/son/miniconda3/envs/vin/lib/python3.8/site-packages (from pandas>=1.1.4->ultralytics) (2023.3)\n",
      "Requirement already satisfied: tzdata>=2022.1 in /home/son/miniconda3/envs/vin/lib/python3.8/site-packages (from pandas>=1.1.4->ultralytics) (2023.3)\n",
      "Requirement already satisfied: charset-normalizer<4,>=2 in /home/son/miniconda3/envs/vin/lib/python3.8/site-packages (from requests>=2.23.0->ultralytics) (3.2.0)\n",
      "Requirement already satisfied: idna<4,>=2.5 in /home/son/miniconda3/envs/vin/lib/python3.8/site-packages (from requests>=2.23.0->ultralytics) (2.10)\n",
      "Requirement already satisfied: urllib3<3,>=1.21.1 in /home/son/miniconda3/envs/vin/lib/python3.8/site-packages (from requests>=2.23.0->ultralytics) (1.26.16)\n",
      "Requirement already satisfied: certifi>=2017.4.17 in /home/son/miniconda3/envs/vin/lib/python3.8/site-packages (from requests>=2.23.0->ultralytics) (2022.12.7)\n",
      "Requirement already satisfied: filelock in /home/son/miniconda3/envs/vin/lib/python3.8/site-packages (from torch>=1.8.0->ultralytics) (3.12.2)\n",
      "Requirement already satisfied: typing-extensions in /home/son/miniconda3/envs/vin/lib/python3.8/site-packages (from torch>=1.8.0->ultralytics) (4.7.1)\n",
      "Requirement already satisfied: sympy in /home/son/miniconda3/envs/vin/lib/python3.8/site-packages (from torch>=1.8.0->ultralytics) (1.12)\n",
      "Requirement already satisfied: networkx in /home/son/miniconda3/envs/vin/lib/python3.8/site-packages (from torch>=1.8.0->ultralytics) (3.1)\n",
      "Requirement already satisfied: jinja2 in /home/son/miniconda3/envs/vin/lib/python3.8/site-packages (from torch>=1.8.0->ultralytics) (3.1.2)\n",
      "Requirement already satisfied: nvidia-cuda-nvrtc-cu11==11.7.99 in /home/son/miniconda3/envs/vin/lib/python3.8/site-packages (from torch>=1.8.0->ultralytics) (11.7.99)\n",
      "Requirement already satisfied: nvidia-cuda-runtime-cu11==11.7.99 in /home/son/miniconda3/envs/vin/lib/python3.8/site-packages (from torch>=1.8.0->ultralytics) (11.7.99)\n",
      "Requirement already satisfied: nvidia-cuda-cupti-cu11==11.7.101 in /home/son/miniconda3/envs/vin/lib/python3.8/site-packages (from torch>=1.8.0->ultralytics) (11.7.101)\n",
      "Requirement already satisfied: nvidia-cudnn-cu11==8.5.0.96 in /home/son/miniconda3/envs/vin/lib/python3.8/site-packages (from torch>=1.8.0->ultralytics) (8.5.0.96)\n",
      "Requirement already satisfied: nvidia-cublas-cu11==11.10.3.66 in /home/son/miniconda3/envs/vin/lib/python3.8/site-packages (from torch>=1.8.0->ultralytics) (11.10.3.66)\n",
      "Requirement already satisfied: nvidia-cufft-cu11==10.9.0.58 in /home/son/miniconda3/envs/vin/lib/python3.8/site-packages (from torch>=1.8.0->ultralytics) (10.9.0.58)\n",
      "Requirement already satisfied: nvidia-curand-cu11==10.2.10.91 in /home/son/miniconda3/envs/vin/lib/python3.8/site-packages (from torch>=1.8.0->ultralytics) (10.2.10.91)\n",
      "Requirement already satisfied: nvidia-cusolver-cu11==11.4.0.1 in /home/son/miniconda3/envs/vin/lib/python3.8/site-packages (from torch>=1.8.0->ultralytics) (11.4.0.1)\n",
      "Requirement already satisfied: nvidia-cusparse-cu11==11.7.4.91 in /home/son/miniconda3/envs/vin/lib/python3.8/site-packages (from torch>=1.8.0->ultralytics) (11.7.4.91)\n",
      "Requirement already satisfied: nvidia-nccl-cu11==2.14.3 in /home/son/miniconda3/envs/vin/lib/python3.8/site-packages (from torch>=1.8.0->ultralytics) (2.14.3)\n",
      "Requirement already satisfied: nvidia-nvtx-cu11==11.7.91 in /home/son/miniconda3/envs/vin/lib/python3.8/site-packages (from torch>=1.8.0->ultralytics) (11.7.91)\n",
      "Requirement already satisfied: triton==2.0.0 in /home/son/miniconda3/envs/vin/lib/python3.8/site-packages (from torch>=1.8.0->ultralytics) (2.0.0)\n",
      "Requirement already satisfied: setuptools in /home/son/miniconda3/envs/vin/lib/python3.8/site-packages (from nvidia-cublas-cu11==11.10.3.66->torch>=1.8.0->ultralytics) (68.0.0)\n",
      "Requirement already satisfied: wheel in /home/son/miniconda3/envs/vin/lib/python3.8/site-packages (from nvidia-cublas-cu11==11.10.3.66->torch>=1.8.0->ultralytics) (0.38.4)\n",
      "Requirement already satisfied: cmake in /home/son/miniconda3/envs/vin/lib/python3.8/site-packages (from triton==2.0.0->torch>=1.8.0->ultralytics) (3.27.2)\n",
      "Requirement already satisfied: lit in /home/son/miniconda3/envs/vin/lib/python3.8/site-packages (from triton==2.0.0->torch>=1.8.0->ultralytics) (16.0.6)\n",
      "Requirement already satisfied: six in /home/son/miniconda3/envs/vin/lib/python3.8/site-packages (from cycler>=0.10->matplotlib>=3.3.0->ultralytics) (1.16.0)\n",
      "Requirement already satisfied: zipp>=3.1.0 in /home/son/miniconda3/envs/vin/lib/python3.8/site-packages (from importlib-resources>=3.2.0->matplotlib>=3.3.0->ultralytics) (3.16.2)\n",
      "Requirement already satisfied: MarkupSafe>=2.0 in /home/son/miniconda3/envs/vin/lib/python3.8/site-packages (from jinja2->torch>=1.8.0->ultralytics) (2.1.3)\n",
      "Requirement already satisfied: mpmath>=0.19 in /home/son/miniconda3/envs/vin/lib/python3.8/site-packages (from sympy->torch>=1.8.0->ultralytics) (1.3.0)\n",
      "Using cached ultralytics-8.0.184-py3-none-any.whl (618 kB)\n",
      "Installing collected packages: ultralytics\n",
      "  Attempting uninstall: ultralytics\n",
      "    Found existing installation: ultralytics 8.0.20\n",
      "    Uninstalling ultralytics-8.0.20:\n",
      "      Successfully uninstalled ultralytics-8.0.20\n",
      "Successfully installed ultralytics-8.0.184\n"
     ]
    }
   ],
   "source": [
    "!pip install -U ultralytics"
   ]
  },
  {
   "cell_type": "code",
   "execution_count": 20,
   "metadata": {},
   "outputs": [
    {
     "name": "stderr",
     "output_type": "stream",
     "text": [
      "WARNING ⚠️ Ultralytics settings reset to defaults. \n",
      "This is normal and may be due to a recent ultralytics package update, but may have overwritten previous settings. \n",
      "You may view and update settings directly in '/home/son/.config/Ultralytics/settings.yaml'\n"
     ]
    }
   ],
   "source": [
    "from ultralytics.yolo.data.dataloaders.stream_loaders import LoadImages"
   ]
  },
  {
   "cell_type": "code",
   "execution_count": 22,
   "metadata": {},
   "outputs": [],
   "source": [
    "transforms=getattr(model.model, 'transforms', None)\n",
    "transforms"
   ]
  },
  {
   "cell_type": "code",
   "execution_count": 25,
   "metadata": {},
   "outputs": [
    {
     "name": "stderr",
     "output_type": "stream",
     "text": [
      "YOLOv8x summary (fused): 268 layers, 68200608 parameters, 0 gradients, 257.8 GFLOPs\n"
     ]
    }
   ],
   "source": [
    "model = AutoBackend('/home/son/Desktop/VIN/CV/project/weights/yolov8x.pt', device=device, dnn=dnn, fp16=half)"
   ]
  },
  {
   "cell_type": "code",
   "execution_count": 27,
   "metadata": {},
   "outputs": [],
   "source": [
    "transforms=getattr(model.model, 'transforms', None)\n",
    "transforms"
   ]
  },
  {
   "cell_type": "code",
   "execution_count": null,
   "metadata": {},
   "outputs": [],
   "source": []
  }
 ],
 "metadata": {
  "kernelspec": {
   "display_name": "vin",
   "language": "python",
   "name": "python3"
  },
  "language_info": {
   "codemirror_mode": {
    "name": "ipython",
    "version": 3
   },
   "file_extension": ".py",
   "mimetype": "text/x-python",
   "name": "python",
   "nbconvert_exporter": "python",
   "pygments_lexer": "ipython3",
   "version": "3.8.17"
  },
  "orig_nbformat": 4
 },
 "nbformat": 4,
 "nbformat_minor": 2
}
